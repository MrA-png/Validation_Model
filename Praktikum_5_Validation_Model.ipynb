{
  "nbformat": 4,
  "nbformat_minor": 0,
  "metadata": {
    "colab": {
      "provenance": [],
      "authorship_tag": "ABX9TyPptezGoMMIhQt/kwal8/t9",
      "include_colab_link": true
    },
    "kernelspec": {
      "name": "python3",
      "display_name": "Python 3"
    },
    "language_info": {
      "name": "python"
    }
  },
  "cells": [
    {
      "cell_type": "markdown",
      "metadata": {
        "id": "view-in-github",
        "colab_type": "text"
      },
      "source": [
        "<a href=\"https://colab.research.google.com/github/MrA-png/Validation_Model/blob/main/Praktikum_5_Validation_Model.ipynb\" target=\"_parent\"><img src=\"https://colab.research.google.com/assets/colab-badge.svg\" alt=\"Open In Colab\"/></a>"
      ]
    },
    {
      "cell_type": "code",
      "source": [
        "#dataset <-- titanic.csv\n",
        "\n",
        "import pandas as pd\n",
        "\n",
        "dataset = pd.read_csv('titanic.csv')\n",
        "print(dataset)\n"
      ],
      "metadata": {
        "colab": {
          "base_uri": "https://localhost:8080/"
        },
        "id": "gNIUkZpZHJF8",
        "outputId": "24d40ed7-c688-40e4-ae78-9f84915434d8"
      },
      "execution_count": 9,
      "outputs": [
        {
          "output_type": "stream",
          "name": "stdout",
          "text": [
            "     PassengerId  Survived  Pclass  \\\n",
            "0              1         0       3   \n",
            "1              2         1       1   \n",
            "2              3         1       3   \n",
            "3              4         1       1   \n",
            "4              5         0       3   \n",
            "..           ...       ...     ...   \n",
            "886          887         0       2   \n",
            "887          888         1       1   \n",
            "888          889         0       3   \n",
            "889          890         1       1   \n",
            "890          891         0       3   \n",
            "\n",
            "                                                  Name     Sex   Age  SibSp  \\\n",
            "0                              Braund, Mr. Owen Harris    male  22.0      1   \n",
            "1    Cumings, Mrs. John Bradley (Florence Briggs Th...  female  38.0      1   \n",
            "2                               Heikkinen, Miss. Laina  female  26.0      0   \n",
            "3         Futrelle, Mrs. Jacques Heath (Lily May Peel)  female  35.0      1   \n",
            "4                             Allen, Mr. William Henry    male  35.0      0   \n",
            "..                                                 ...     ...   ...    ...   \n",
            "886                              Montvila, Rev. Juozas    male  27.0      0   \n",
            "887                       Graham, Miss. Margaret Edith  female  19.0      0   \n",
            "888           Johnston, Miss. Catherine Helen \"Carrie\"  female   NaN      1   \n",
            "889                              Behr, Mr. Karl Howell    male  26.0      0   \n",
            "890                                Dooley, Mr. Patrick    male  32.0      0   \n",
            "\n",
            "     Parch            Ticket     Fare Cabin Embarked  \n",
            "0        0         A/5 21171   7.2500   NaN        S  \n",
            "1        0          PC 17599  71.2833   C85        C  \n",
            "2        0  STON/O2. 3101282   7.9250   NaN        S  \n",
            "3        0            113803  53.1000  C123        S  \n",
            "4        0            373450   8.0500   NaN        S  \n",
            "..     ...               ...      ...   ...      ...  \n",
            "886      0            211536  13.0000   NaN        S  \n",
            "887      0            112053  30.0000   B42        S  \n",
            "888      2        W./C. 6607  23.4500   NaN        S  \n",
            "889      0            111369  30.0000  C148        C  \n",
            "890      0            370376   7.7500   NaN        Q  \n",
            "\n",
            "[891 rows x 12 columns]\n"
          ]
        }
      ]
    },
    {
      "cell_type": "code",
      "source": [
        "# 2. Lakukan validation Model dengan metode:\n",
        "# a. Hold-out Method (70%-30%)\n",
        "# b. K-Fold (k=10)\n",
        "# c. LOO\n",
        "\n",
        "import pandas as pd\n",
        "from sklearn.model_selection import train_test_split, KFold, LeaveOneOut\n",
        "from sklearn.linear_model import LogisticRegression\n",
        "from sklearn.metrics import accuracy_score\n",
        "\n",
        "# Memisahkan fitur dan target\n",
        "train_data = dataset[['Pclass', 'Sex', 'Age', 'Fare']]\n",
        "label = dataset['Survived']\n",
        "\n",
        "# Mengubah fitur kategorikal menjadi numerik (misalnya, Sex)\n",
        "X = pd.get_dummies(train_data, columns=['Sex'], drop_first=True)\n",
        "\n",
        "# Mengatasi missing values (misalnya, Age)\n",
        "X['Age'].fillna(X['Age'].mean(), inplace=True)\n",
        "\n",
        "# a. Hold-out Method (70%-30%)\n",
        "X_train, X_test, y_train, y_test = train_test_split(X, label, test_size=0.3, random_state=42)\n",
        "\n",
        "model = LogisticRegression()\n",
        "model.fit(X_train, y_train)\n",
        "y_pred = model.predict(X_test)\n",
        "accuracy_holdout = accuracy_score(y_test, y_pred)\n",
        "print(\"Akurasi Hold-out Method:\", accuracy_holdout)\n",
        "\n",
        "# b. K-Fold (k=10)\n",
        "kf = KFold(n_splits=10, shuffle=True, random_state=42)\n",
        "accuracies_kfold = []\n",
        "\n",
        "for train_index, test_index in kf.split(X):\n",
        "    X_train, X_test = X.iloc[train_index], X.iloc[test_index]\n",
        "    y_train, y_test = label.iloc[train_index], label.iloc[test_index]\n",
        "\n",
        "    model = LogisticRegression()\n",
        "    model.fit(X_train, y_train)\n",
        "    y_pred = model.predict(X_test)\n",
        "    accuracies_kfold.append(accuracy_score(y_test, y_pred))\n",
        "\n",
        "print(\"Akurasi K-Fold (rata-rata):\", sum(accuracies_kfold) / len(accuracies_kfold))\n",
        "\n",
        "# c. LOO\n",
        "loo = LeaveOneOut()\n",
        "accuracies_loo = []\n",
        "\n",
        "for train_index, test_index in loo.split(X):\n",
        "    X_train, X_test = X.iloc[train_index], X.iloc[test_index]\n",
        "    y_train, y_test = label.iloc[train_index], label.iloc[test_index]\n",
        "\n",
        "    model = LogisticRegression()\n",
        "    model.fit(X_train, y_train)\n",
        "    y_pred = model.predict(X_test)\n",
        "    accuracies_loo.append(accuracy_score(y_test, y_pred))\n",
        "\n",
        "print(\"Akurasi LOO (rata-rata):\", sum(accuracies_loo) / len(accuracies_loo))\n"
      ],
      "metadata": {
        "colab": {
          "base_uri": "https://localhost:8080/"
        },
        "id": "9L5GHTKgHZYV",
        "outputId": "9164865d-3d42-4d54-bea7-5202c39ba8f6"
      },
      "execution_count": 4,
      "outputs": [
        {
          "output_type": "stream",
          "name": "stdout",
          "text": [
            "Akurasi Hold-out Method: 0.7947761194029851\n",
            "Akurasi K-Fold (rata-rata): 0.7889263420724096\n",
            "Akurasi LOO (rata-rata): 0.7957351290684624\n"
          ]
        }
      ]
    },
    {
      "cell_type": "code",
      "source": [
        "# 3. train_data <-- ambil dataset kolom fitur (Sex, Age, Pclass, Fare). Lakukan pengisian\n",
        "# missing value pada fitur Age dengan nilai mean dari masing-masing class\n",
        "\n",
        "import pandas as pd\n",
        "from sklearn.model_selection import train_test_split, KFold, LeaveOneOut\n",
        "from sklearn.linear_model import LogisticRegression\n",
        "from sklearn.metrics import accuracy_score\n",
        "\n",
        "\n",
        "# Memisahkan fitur dan target\n",
        "train_data = dataset[['Pclass', 'Sex', 'Age', 'Fare']]\n",
        "label = dataset['Survived']\n",
        "\n",
        "# Mengubah fitur kategorikal menjadi numerik (misalnya, Sex)\n",
        "X = pd.get_dummies(train_data, columns=['Sex'], drop_first=True)\n",
        "\n",
        "# Mengatasi missing values (misalnya, Age) dengan mean berdasarkan Pclass\n",
        "for pclass in X['Pclass'].unique():\n",
        "    X.loc[(X['Pclass'] == pclass) & (X['Age'].isnull()), 'Age'] = X.loc[X['Pclass'] == pclass, 'Age'].mean()\n",
        "\n",
        "# a. Hold-out Method (70%-30%)\n",
        "X_train, X_test, y_train, y_test = train_test_split(X, label, test_size=0.3, random_state=42)\n",
        "\n",
        "model = LogisticRegression()\n",
        "model.fit(X_train, y_train)\n",
        "y_pred = model.predict(X_test)\n",
        "accuracy_holdout = accuracy_score(y_test, y_pred)\n",
        "print(\"Akurasi Hold-out Method:\", accuracy_holdout)\n",
        "\n",
        "# b. K-Fold (k=10)\n",
        "kf = KFold(n_splits=10, shuffle=True, random_state=42)\n",
        "accuracies_kfold = []\n",
        "\n",
        "for train_index, test_index in kf.split(X):\n",
        "    X_train, X_test = X.iloc[train_index], X.iloc[test_index]\n",
        "    y_train, y_test = label.iloc[train_index], label.iloc[test_index]\n",
        "\n",
        "    model = LogisticRegression()\n",
        "    model.fit(X_train, y_train)\n",
        "    y_pred = model.predict(X_test)\n",
        "    accuracies_kfold.append(accuracy_score(y_test, y_pred))\n",
        "\n",
        "print(\"Akurasi K-Fold (rata-rata):\", sum(accuracies_kfold) / len(accuracies_kfold))\n",
        "\n",
        "# c. LOO\n",
        "loo = LeaveOneOut()\n",
        "accuracies_loo = []\n",
        "\n",
        "for train_index, test_index in loo.split(X):\n",
        "    X_train, X_test = X.iloc[train_index], X.iloc[test_index]\n",
        "    y_train, y_test = label.iloc[train_index], label.iloc[test_index]\n",
        "\n",
        "    model = LogisticRegression()\n",
        "    model.fit(X_train, y_train)\n",
        "    y_pred = model.predict(X_test)\n",
        "    accuracies_loo.append(accuracy_score(y_test, y_pred))\n",
        "\n",
        "print(\"Akurasi LOO (rata-rata):\", sum(accuracies_loo) / len(accuracies_loo))\n"
      ],
      "metadata": {
        "colab": {
          "base_uri": "https://localhost:8080/"
        },
        "id": "pSrCFUx6HyqM",
        "outputId": "3967934d-e391-4f32-9610-e66401d71842"
      },
      "execution_count": 5,
      "outputs": [
        {
          "output_type": "stream",
          "name": "stdout",
          "text": [
            "Akurasi Hold-out Method: 0.7985074626865671\n",
            "Akurasi K-Fold (rata-rata): 0.7945318352059924\n",
            "Akurasi LOO (rata-rata): 0.7957351290684624\n"
          ]
        }
      ]
    },
    {
      "cell_type": "code",
      "source": [
        "# 4. label <-- ambil dataset kolom kelas (Survived)\n",
        "\n",
        "label = dataset['Survived']\n",
        "print(label)\n"
      ],
      "metadata": {
        "colab": {
          "base_uri": "https://localhost:8080/"
        },
        "id": "4YQffdwmIPed",
        "outputId": "bc9d1982-278e-4e99-ea53-cb4965e9d3ab"
      },
      "execution_count": 6,
      "outputs": [
        {
          "output_type": "stream",
          "name": "stdout",
          "text": [
            "0      0\n",
            "1      1\n",
            "2      1\n",
            "3      1\n",
            "4      0\n",
            "      ..\n",
            "886    0\n",
            "887    1\n",
            "888    0\n",
            "889    1\n",
            "890    0\n",
            "Name: Survived, Length: 891, dtype: int64\n"
          ]
        }
      ]
    },
    {
      "cell_type": "code",
      "source": [
        "# 5. buat variable train_data unutuk lakukan normalisasi pada train_data dengan Min-Max 0-1 (catat nilai min dan max setiap atribut)\n",
        "\n",
        "import pandas as pd\n",
        "from sklearn.model_selection import train_test_split, KFold, LeaveOneOut\n",
        "from sklearn.linear_model import LogisticRegression\n",
        "from sklearn.metrics import accuracy_score\n",
        "\n",
        "dataset = pd.read_csv('titanic.csv')\n",
        "\n",
        "# Memisahkan fitur dan target\n",
        "train_data = dataset[['Pclass', 'Sex', 'Age', 'Fare']]  # Ganti dengan fitur yang relevan\n",
        "label = dataset['Survived']\n",
        "\n",
        "# Mengubah fitur kategorikal menjadi numerik (misalnya, Sex)\n",
        "X = pd.get_dummies(train_data, columns=['Sex'], drop_first=True)\n",
        "\n",
        "# Mengatasi missing values (misalnya, Age) dengan mean berdasarkan Pclass\n",
        "for pclass in X['Pclass'].unique():\n",
        "    X.loc[(X['Pclass'] == pclass) & (X['Age'].isnull()), 'Age'] = X.loc[X['Pclass'] == pclass, 'Age'].mean()\n",
        "\n",
        "# a. Hold-out Method (70%-30%)\n",
        "X_train, X_test, y_train, y_test = train_test_split(X, label, test_size=0.3, random_state=42)\n",
        "\n",
        "model = LogisticRegression()\n",
        "model.fit(X_train, y_train)\n",
        "y_pred = model.predict(X_test)\n",
        "accuracy_holdout = accuracy_score(y_test, y_pred)\n",
        "print(\"Akurasi Hold-out Method:\", accuracy_holdout)\n",
        "\n",
        "# b. K-Fold (k=10)\n",
        "kf = KFold(n_splits=10, shuffle=True, random_state=42)\n",
        "accuracies_kfold = []\n",
        "\n",
        "for train_index, test_index in kf.split(X):\n",
        "    X_train, X_test = X.iloc[train_index], X.iloc[test_index]\n",
        "    y_train, y_test = label.iloc[train_index], label.iloc[test_index]\n",
        "\n",
        "    model = LogisticRegression()\n",
        "    model.fit(X_train, y_train)\n",
        "    y_pred = model.predict(X_test)\n",
        "    accuracies_kfold.append(accuracy_score(y_test, y_pred))\n",
        "\n",
        "print(\"Akurasi K-Fold (rata-rata):\", sum(accuracies_kfold) / len(accuracies_kfold))\n",
        "\n",
        "# c. LOO\n",
        "loo = LeaveOneOut()\n",
        "accuracies_loo = []\n",
        "\n",
        "for train_index, test_index in loo.split(X):\n",
        "    X_train, X_test = X.iloc[train_index], X.iloc[test_index]\n",
        "    y_train, y_test = label.iloc[train_index], label.iloc[test_index]\n",
        "\n",
        "    model = LogisticRegression()\n",
        "    model.fit(X_train, y_train)\n",
        "    y_pred = model.predict(X_test)\n",
        "    accuracies_loo.append(accuracy_score(y_test, y_pred))\n",
        "\n",
        "print(\"Akurasi LOO (rata-rata):\", sum(accuracies_loo) / len(accuracies_loo))\n",
        "\n",
        "# Buat variabel train_data untuk normalisasi\n",
        "train_data = X_train.copy()\n",
        "\n",
        "# Normalisasi Min-Max 0-1\n",
        "for column in train_data.columns:\n",
        "  if pd.api.types.is_numeric_dtype(train_data[column]) and not pd.api.types.is_bool_dtype(train_data[column]):\n",
        "    min_val = train_data[column].min()\n",
        "    max_val = train_data[column].max()\n",
        "    train_data[column] = (train_data[column] - min_val) / (max_val - min_val)\n",
        "    print(f\"Kolom {column}: Min = {min_val}, Max = {max_val}\")\n",
        "\n",
        "\n",
        "print(\"\\nTrain Data setelah normalisasi:\")\n",
        "print(train_data)\n"
      ],
      "metadata": {
        "colab": {
          "base_uri": "https://localhost:8080/"
        },
        "id": "dbB2yXFSI0VM",
        "outputId": "6ecc277c-6932-4896-f904-1ac3f77cf112"
      },
      "execution_count": 7,
      "outputs": [
        {
          "output_type": "stream",
          "name": "stdout",
          "text": [
            "Akurasi Hold-out Method: 0.7985074626865671\n",
            "Akurasi K-Fold (rata-rata): 0.7945318352059924\n",
            "Akurasi LOO (rata-rata): 0.7957351290684624\n",
            "Kolom Pclass: Min = 1, Max = 3\n",
            "Kolom Age: Min = 0.42, Max = 80.0\n",
            "Kolom Fare: Min = 0.0, Max = 512.3292\n",
            "\n",
            "Train Data setelah normalisasi:\n",
            "     Pclass       Age      Fare  Sex_male\n",
            "0       1.0  0.271174  0.014151      True\n",
            "1       0.0  0.472229  0.139136     False\n",
            "2       1.0  0.321438  0.015469     False\n",
            "3       0.0  0.434531  0.103644     False\n",
            "4       1.0  0.434531  0.015713      True\n",
            "..      ...       ...       ...       ...\n",
            "885     1.0  0.484795  0.056848     False\n",
            "886     0.5  0.334004  0.025374      True\n",
            "887     0.0  0.233476  0.058556     False\n",
            "888     1.0  0.310639  0.045771     False\n",
            "889     0.0  0.321438  0.058556      True\n",
            "\n",
            "[890 rows x 4 columns]\n"
          ]
        }
      ]
    },
    {
      "cell_type": "code",
      "source": [
        "# 6. variable test_data untuk lakukan normalisasi pada train_data dengan min-max pada Langkah 5 atau langkah sebelumnya\n",
        "\n",
        "# Buat variabel test_data untuk normalisasi\n",
        "test_data = X_test.copy()\n",
        "\n",
        "# Normalisasi Min-Max 0-1 menggunakan nilai min dan max dari train_data\n",
        "for column in test_data.columns:\n",
        "  if pd.api.types.is_numeric_dtype(test_data[column]) and not pd.api.types.is_bool_dtype(test_data[column]):\n",
        "    min_val = train_data[column].min()\n",
        "    max_val = train_data[column].max()\n",
        "    test_data[column] = (test_data[column] - min_val) / (max_val - min_val)\n",
        "\n",
        "print(\"\\nTest Data setelah normalisasi:\")\n",
        "print(test_data)\n"
      ],
      "metadata": {
        "colab": {
          "base_uri": "https://localhost:8080/"
        },
        "id": "AJNrawMdKay4",
        "outputId": "0133c53f-effc-4fe8-83db-73c3156de884"
      },
      "execution_count": 8,
      "outputs": [
        {
          "output_type": "stream",
          "name": "stdout",
          "text": [
            "\n",
            "Test Data setelah normalisasi:\n",
            "     Pclass   Age  Fare  Sex_male\n",
            "890     3.0  32.0  7.75      True\n"
          ]
        }
      ]
    },
    {
      "cell_type": "code",
      "source": [
        "# 7.Lakukan klasifikasi k-NN (k=3) untuk masing-masing pendekatan validasi dan\n",
        "# hitunglah error ratio-nya\n",
        "\n",
        "import pandas as pd\n",
        "from sklearn.model_selection import train_test_split, KFold, LeaveOneOut\n",
        "from sklearn.neighbors import KNeighborsClassifier\n",
        "from sklearn.metrics import accuracy_score\n",
        "\n",
        "\n",
        "# Fungsi untuk menghitung error ratio\n",
        "def calculate_error_ratio(y_true, y_pred):\n",
        "  return 1 - accuracy_score(y_true, y_pred)\n",
        "\n",
        "\n",
        "# Klasifikasi k-NN dengan k=3 untuk Hold-out Method\n",
        "knn_model = KNeighborsClassifier(n_neighbors=3)\n",
        "knn_model.fit(X_train, y_train)\n",
        "y_pred_holdout = knn_model.predict(X_test)\n",
        "error_ratio_holdout = calculate_error_ratio(y_test, y_pred_holdout)\n",
        "print(\"Error Ratio Hold-out Method (k-NN):\", error_ratio_holdout)\n",
        "\n",
        "\n",
        "# Klasifikasi k-NN dengan k=3 untuk K-Fold\n",
        "kf = KFold(n_splits=10, shuffle=True, random_state=42)\n",
        "error_ratios_kfold = []\n",
        "\n",
        "for train_index, test_index in kf.split(X):\n",
        "    X_train_kf, X_test_kf = X.iloc[train_index], X.iloc[test_index]\n",
        "    y_train_kf, y_test_kf = label.iloc[train_index], label.iloc[test_index]\n",
        "\n",
        "    knn_model = KNeighborsClassifier(n_neighbors=3)\n",
        "    knn_model.fit(X_train_kf, y_train_kf)\n",
        "    y_pred_kfold = knn_model.predict(X_test_kf)\n",
        "    error_ratios_kfold.append(calculate_error_ratio(y_test_kf, y_pred_kfold))\n",
        "\n",
        "print(\"Error Ratio K-Fold (rata-rata, k-NN):\", sum(error_ratios_kfold) / len(error_ratios_kfold))\n",
        "\n",
        "\n",
        "# Klasifikasi k-NN dengan k=3 untuk LOO\n",
        "loo = LeaveOneOut()\n",
        "error_ratios_loo = []\n",
        "\n",
        "for train_index, test_index in loo.split(X):\n",
        "    X_train_loo, X_test_loo = X.iloc[train_index], X.iloc[test_index]\n",
        "    y_train_loo, y_test_loo = label.iloc[train_index], label.iloc[test_index]\n",
        "\n",
        "    knn_model = KNeighborsClassifier(n_neighbors=3)\n",
        "    knn_model.fit(X_train_loo, y_train_loo)\n",
        "    y_pred_loo = knn_model.predict(X_test_loo)\n",
        "    error_ratios_loo.append(calculate_error_ratio(y_test_loo, y_pred_loo))\n",
        "\n",
        "print(\"Error Ratio LOO (rata-rata, k-NN):\", sum(error_ratios_loo) / len(error_ratios_loo))\n"
      ],
      "metadata": {
        "colab": {
          "base_uri": "https://localhost:8080/"
        },
        "id": "7Ap5VH7eKwJp",
        "outputId": "f13c0728-f344-4108-a470-6ebe5b32cfa5"
      },
      "execution_count": 12,
      "outputs": [
        {
          "output_type": "stream",
          "name": "stdout",
          "text": [
            "Error Ratio Hold-out Method (k-NN): 0.0\n",
            "Error Ratio K-Fold (rata-rata, k-NN): 0.2996878901373284\n",
            "Error Ratio LOO (rata-rata, k-NN): 0.2884399551066218\n"
          ]
        }
      ]
    }
  ]
}